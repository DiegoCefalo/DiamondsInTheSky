{
 "cells": [
  {
   "cell_type": "code",
   "execution_count": null,
   "id": "6a96324c-582f-4d0f-b2b7-e9a7aea3623d",
   "metadata": {},
   "outputs": [],
   "source": [
    "from sklearn.ensemble import GradientBoostingRegressor, RandomForestRegressor, VotingRegressor\n",
    "from sklearn.model_selection import cross_val_score\n",
    "from sklearn.linear_model import LinearRegression, ARDRegression\n",
    "import pandas as pd\n",
    "import numpy as np\n",
    "from sklearn.preprocessing import PolynomialFeatures\n",
    "from sklearn.model_selection import GridSearchCV, RandomizedSearchCV\n",
    "from sklearn.tree import DecisionTreeRegressor"
   ]
  },
  {
   "cell_type": "code",
   "execution_count": null,
   "id": "acd1395f-7a49-41e9-a95e-07b6dba2cc28",
   "metadata": {},
   "outputs": [],
   "source": []
  },
  {
   "cell_type": "code",
   "execution_count": null,
   "id": "2d0ebca3-7a81-42ab-a423-ece883a21f47",
   "metadata": {},
   "outputs": [],
   "source": [
    "train = pd.read_csv('data/train.csv')\n",
    "test = pd.read_csv('data/test.csv')\n",
    "def cleaner(df):\n",
    "    colors = {'D' : 6, 'E' : 5, 'F' : 4, 'G' : 3, 'H' : 2, 'I' : 1, 'J' : 0}\n",
    "    clarity = {'SI2' : 1, 'VVS2' : 5, 'VS2' : 3, 'VS1' : 4, 'SI1' : 2, 'VVS1' : 6, 'IF' : 7, 'I1' : 0}\n",
    "    cut = {'Premium' : 4, 'Ideal' : 3, 'Very Good' : 2, 'Fair' : 0, 'Good' : 1}\n",
    "    df['color'] = np.vectorize(colors.get)(df.color)\n",
    "    df.clarity = np.vectorize(clarity.get)(df.clarity)\n",
    "    df.cut = np.vectorize(cut.get)(df.cut)\n",
    "    return df\n",
    "train = cleaner(train)\n",
    "test= cleaner(test)\n",
    "X_train = train.drop(columns='price')\n",
    "y_train = train.price\n",
    "X_test = test"
   ]
  },
  {
   "cell_type": "code",
   "execution_count": null,
   "id": "70fea3e3-f0a5-48f2-8e91-01e035c9515c",
   "metadata": {},
   "outputs": [],
   "source": [
    "r2 = RandomForestRegressor(max_depth=20, min_samples_split=10, n_estimators=100)\n",
    "r3 = GradientBoostingRegressor()\n",
    "er = VotingRegressor([('rf', r2), ('gb', r3)])\n",
    "er.fit(PolynomialFeatures().fit_transform(X_train), y_train)"
   ]
  },
  {
   "cell_type": "code",
   "execution_count": null,
   "id": "e6a5eea4-f105-4f53-bd4c-dc822ef9f41e",
   "metadata": {},
   "outputs": [],
   "source": [
    "(-cross_val_score(er, PolynomialFeatures().fit_transform(X_train), y_train, scoring='neg_root_mean_squared_error', cv=5)).mean()"
   ]
  },
  {
   "cell_type": "code",
   "execution_count": 21,
   "id": "cd7b9c68-3047-4054-99de-8a2d001efcdc",
   "metadata": {},
   "outputs": [
    {
     "data": {
      "text/plain": [
       "0.09869114805469324"
      ]
     },
     "execution_count": 21,
     "metadata": {},
     "output_type": "execute_result"
    }
   ],
   "source": [
    "(-cross_val_score(GradientBoostingRegressor(max_depth=10, learning_rate=0.3, min_samples_split=10), PolynomialFeatures().fit_transform(X_train), y_train, scoring='neg_root_mean_squared_error', cv=5)).mean()"
   ]
  },
  {
   "cell_type": "code",
   "execution_count": 4,
   "id": "87d55ff5-d5bb-4829-95ce-7bcda40f112e",
   "metadata": {},
   "outputs": [],
   "source": [
    "gbr_rf = GradientBoostingRegressor(init=RandomForestRegressor(max_depth=20, min_samples_split=10, n_estimators=100),max_depth=10, learning_rate=0.3, min_samples_split=10)"
   ]
  },
  {
   "cell_type": "code",
   "execution_count": 6,
   "id": "73a80e8f-c5d0-474e-a231-14ea75916412",
   "metadata": {},
   "outputs": [
    {
     "data": {
      "text/plain": [
       "0.09835492001093772"
      ]
     },
     "execution_count": 6,
     "metadata": {},
     "output_type": "execute_result"
    }
   ],
   "source": [
    "(-cross_val_score(gbr_rf, PolynomialFeatures().fit_transform(X_train), y_train, scoring='neg_root_mean_squared_error', cv=4)).mean()"
   ]
  },
  {
   "cell_type": "code",
   "execution_count": null,
   "id": "9d3f24b4-832b-4e15-93d7-f64e285010c6",
   "metadata": {},
   "outputs": [],
   "source": []
  }
 ],
 "metadata": {
  "kernelspec": {
   "display_name": "ironhack",
   "language": "python",
   "name": "ironhack"
  },
  "language_info": {
   "codemirror_mode": {
    "name": "ipython",
    "version": 3
   },
   "file_extension": ".py",
   "mimetype": "text/x-python",
   "name": "python",
   "nbconvert_exporter": "python",
   "pygments_lexer": "ipython3",
   "version": "3.9.6"
  }
 },
 "nbformat": 4,
 "nbformat_minor": 5
}
