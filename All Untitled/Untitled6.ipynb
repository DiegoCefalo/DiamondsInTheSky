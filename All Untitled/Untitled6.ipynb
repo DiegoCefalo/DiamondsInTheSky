{
 "cells": [
  {
   "cell_type": "code",
   "execution_count": 1,
   "id": "1fd00bdc-e446-4151-a0b6-d0d06838519f",
   "metadata": {},
   "outputs": [],
   "source": [
    "from sklearn.ensemble import GradientBoostingRegressor, RandomForestRegressor, VotingRegressor, IsolationForest\n",
    "from sklearn.model_selection import cross_val_score\n",
    "from sklearn.linear_model import LinearRegression, ARDRegression\n",
    "from xgboost import XGBRegressor\n",
    "import pandas as pd\n",
    "import numpy as np\n",
    "from sklearn.preprocessing import PolynomialFeatures\n",
    "from sklearn.model_selection import GridSearchCV, RandomizedSearchCV\n",
    "from sklearn.tree import DecisionTreeRegressor\n",
    "\n",
    "from hyperopt import fmin, hp, tpe, Trials, space_eval, STATUS_OK\n",
    "from hyperopt.pyll import scope as ho_scope\n",
    "from hyperopt.pyll.stochastic import sample as ho_sample\n",
    "\n",
    "from sklearn.metrics import mean_squared_error as mse"
   ]
  },
  {
   "cell_type": "code",
   "execution_count": 2,
   "id": "bcb02394-f6af-4b17-bdd0-0a9ed2391c17",
   "metadata": {},
   "outputs": [],
   "source": [
    "uno = pd.read_csv('test10_OptiXGB.csv')"
   ]
  },
  {
   "cell_type": "code",
   "execution_count": 3,
   "id": "42c4d5da-d44a-4919-abfe-8f77b8bc4a9d",
   "metadata": {},
   "outputs": [],
   "source": [
    "dos = pd.read_csv('test8_OptiHGBR.csv')"
   ]
  },
  {
   "cell_type": "code",
   "execution_count": 4,
   "id": "88202484-8573-44aa-afab-7d2d6cd2a566",
   "metadata": {},
   "outputs": [],
   "source": [
    "tres = pd.read_csv('test9_Voting_OptiHGB_OptiRF.csv')"
   ]
  },
  {
   "cell_type": "code",
   "execution_count": 7,
   "id": "04f32397-195a-4c9b-8890-bb6f4efd536e",
   "metadata": {},
   "outputs": [],
   "source": [
    "cuatro = (tres['price'] + dos['price'] + uno['price']) / 3 "
   ]
  },
  {
   "cell_type": "code",
   "execution_count": 9,
   "id": "bad83006-7a6a-4a3d-9f13-9d50f6839f2e",
   "metadata": {},
   "outputs": [],
   "source": [
    "send = pd.DataFrame(cuatro)\n",
    "csv = send.rename(columns={0:'price'})\n",
    "csv.index.name='id'\n",
    "csv.to_csv('test11_mean_best_3.csv')"
   ]
  },
  {
   "cell_type": "code",
   "execution_count": null,
   "id": "fc733a4d-6531-4aee-bc47-bea1c9fd0101",
   "metadata": {},
   "outputs": [],
   "source": []
  }
 ],
 "metadata": {
  "kernelspec": {
   "display_name": "ironhack",
   "language": "python",
   "name": "ironhack"
  },
  "language_info": {
   "codemirror_mode": {
    "name": "ipython",
    "version": 3
   },
   "file_extension": ".py",
   "mimetype": "text/x-python",
   "name": "python",
   "nbconvert_exporter": "python",
   "pygments_lexer": "ipython3",
   "version": "3.9.6"
  }
 },
 "nbformat": 4,
 "nbformat_minor": 5
}
