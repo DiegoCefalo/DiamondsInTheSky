{
 "cells": [
  {
   "cell_type": "code",
   "execution_count": 3,
   "id": "9bd0b678-38e5-47a4-8f43-6c38fe78e05f",
   "metadata": {},
   "outputs": [],
   "source": [
    "from sklearn.experimental import enable_hist_gradient_boosting\n",
    "from sklearn.ensemble import GradientBoostingRegressor, RandomForestRegressor, VotingRegressor, HistGradientBoostingRegressor\n",
    "from sklearn.model_selection import cross_val_score\n",
    "from sklearn.linear_model import LinearRegression, ARDRegression\n",
    "import pandas as pd\n",
    "import numpy as np\n",
    "from sklearn.preprocessing import PolynomialFeatures\n",
    "from sklearn.model_selection import GridSearchCV, RandomizedSearchCV\n",
    "from sklearn.tree import DecisionTreeRegressor"
   ]
  },
  {
   "cell_type": "code",
   "execution_count": 27,
   "id": "21cdbd04-1243-426e-b167-d7e601baaf2e",
   "metadata": {},
   "outputs": [],
   "source": [
    "train = pd.read_csv('data/train.csv')\n",
    "test = pd.read_csv('data/test.csv')\n",
    "def cleaner(df):\n",
    "    colors = {'D' : 6, 'E' : 5, 'F' : 4, 'G' : 3, 'H' : 2, 'I' : 1, 'J' : 0}\n",
    "    clarity = {'SI2' : 1, 'VVS2' : 5, 'VS2' : 3, 'VS1' : 4, 'SI1' : 2, 'VVS1' : 6, 'IF' : 7, 'I1' : 0}\n",
    "    cut = {'Premium' : 4, 'Ideal' : 3, 'Very Good' : 2, 'Fair' : 0, 'Good' : 1}\n",
    "    df['color'] = np.vectorize(colors.get)(df.color)\n",
    "    df.clarity = np.vectorize(clarity.get)(df.clarity)\n",
    "    df.cut = np.vectorize(cut.get)(df.cut)\n",
    "    return df\n",
    "train = cleaner(train)\n",
    "test= cleaner(test)\n",
    "X_train = train.drop(columns='price')\n",
    "y_train = train.price\n",
    "X_test = test"
   ]
  },
  {
   "cell_type": "code",
   "execution_count": 6,
   "id": "5ae6465d-3a0f-4625-90bb-964607dc122c",
   "metadata": {},
   "outputs": [
    {
     "data": {
      "text/plain": [
       "0.09288154958730353"
      ]
     },
     "execution_count": 6,
     "metadata": {},
     "output_type": "execute_result"
    }
   ],
   "source": [
    "(-cross_val_score(HistGradientBoostingRegressor(), PolynomialFeatures().fit_transform(X_train), y_train, scoring='neg_root_mean_squared_error', cv=5)).mean()"
   ]
  },
  {
   "cell_type": "code",
   "execution_count": 44,
   "id": "d328736e-3702-4959-8be8-c828856e1dc0",
   "metadata": {},
   "outputs": [],
   "source": [
    "\n",
    "max_depth = [10]\n",
    "\n",
    "learning_rate = [0.05,0.03,0.01]\n",
    "\n",
    "max_iter=[200]\n",
    "\n",
    "max_leaf_nodes=[None]\n",
    "\n",
    "max_bins=[255]\n"
   ]
  },
  {
   "cell_type": "code",
   "execution_count": 45,
   "id": "fecfffa5-1149-45b7-b4c8-f2fe0ad83c42",
   "metadata": {},
   "outputs": [],
   "source": [
    "random_grid={'max_iter': max_iter,\n",
    "             'learning_rate': learning_rate,\n",
    "             'max_depth': max_depth, \n",
    "             'max_leaf_nodes': max_leaf_nodes,\n",
    "             'max_bins': max_bins}"
   ]
  },
  {
   "cell_type": "code",
   "execution_count": 47,
   "id": "45f371cc-3493-4e6b-a803-90f4b8c058d6",
   "metadata": {},
   "outputs": [],
   "source": [
    "r_search=RandomizedSearchCV(estimator=HistGradientBoostingRegressor(),                    # modelo\n",
    "                             param_distributions=random_grid,   # dictio de hiperparametros\n",
    "                             n_iter=3,                          # iteraciones\n",
    "                             cv=4,                              # cross-validation\n",
    "                             verbose=1,                         # que me de feedback\n",
    "                             n_jobs=-1,                         # -1 es todos los nucleos\n",
    "                             scoring='neg_root_mean_squared_error'                       # metrica de error\n",
    "                             )"
   ]
  },
  {
   "cell_type": "code",
   "execution_count": 48,
   "id": "0694c3ac-0889-4c00-9f9c-d5b54252dec0",
   "metadata": {
    "tags": []
   },
   "outputs": [
    {
     "name": "stdout",
     "output_type": "stream",
     "text": [
      "Fitting 4 folds for each of 3 candidates, totalling 12 fits\n"
     ]
    },
    {
     "data": {
      "text/plain": [
       "RandomizedSearchCV(cv=4, estimator=HistGradientBoostingRegressor(), n_iter=3,\n",
       "                   n_jobs=-1,\n",
       "                   param_distributions={'learning_rate': [0.05, 0.03, 0.01],\n",
       "                                        'max_bins': [255], 'max_depth': [20],\n",
       "                                        'max_iter': [200],\n",
       "                                        'max_leaf_nodes': [None]},\n",
       "                   scoring='neg_root_mean_squared_error', verbose=1)"
      ]
     },
     "execution_count": 48,
     "metadata": {},
     "output_type": "execute_result"
    }
   ],
   "source": [
    "r_search.fit(PolynomialFeatures().fit_transform(X_train), y_train)"
   ]
  },
  {
   "cell_type": "code",
   "execution_count": 39,
   "id": "3442c46a-84c2-47ce-9c16-62490f54e17f",
   "metadata": {
    "tags": []
   },
   "outputs": [],
   "source": [
    "two = r_search.best_estimator_.fit(PolynomialFeatures().fit_transform(X_train), y_train)"
   ]
  },
  {
   "cell_type": "code",
   "execution_count": 41,
   "id": "75e23193-bfec-4610-99b8-f959f5471538",
   "metadata": {},
   "outputs": [],
   "source": [
    "two_predict = two.predict(PolynomialFeatures().fit_transform(X_test))"
   ]
  },
  {
   "cell_type": "code",
   "execution_count": 50,
   "id": "8c9b0049-dcb5-4b67-b4a5-495ae2561239",
   "metadata": {},
   "outputs": [
    {
     "data": {
      "text/plain": [
       "0.09174401684685493"
      ]
     },
     "execution_count": 50,
     "metadata": {},
     "output_type": "execute_result"
    }
   ],
   "source": [
    "(-cross_val_score(r_search.best_estimator_, PolynomialFeatures().fit_transform(X_train), y_train, scoring='neg_root_mean_squared_error', cv=5)).mean()"
   ]
  },
  {
   "cell_type": "code",
   "execution_count": 42,
   "id": "dbf49f71-f6d1-42e5-ab45-b7d20ecafe3c",
   "metadata": {},
   "outputs": [],
   "source": [
    "send = pd.DataFrame(two_predict)\n",
    "csv = send.rename(columns={0:'price'})\n",
    "csv.index.name='id'\n",
    "csv.to_csv('test8_OptiHGBR.csv')"
   ]
  },
  {
   "cell_type": "code",
   "execution_count": 49,
   "id": "8c74dedc-6590-4b40-a467-4e01d755bc24",
   "metadata": {},
   "outputs": [
    {
     "data": {
      "text/plain": [
       "HistGradientBoostingRegressor(learning_rate=0.03, max_depth=20, max_iter=200,\n",
       "                              max_leaf_nodes=None)"
      ]
     },
     "execution_count": 49,
     "metadata": {},
     "output_type": "execute_result"
    }
   ],
   "source": [
    "r_search.best_estimator_"
   ]
  },
  {
   "cell_type": "markdown",
   "id": "ab0f16e0-83d7-46f3-b717-26a4db93e35b",
   "metadata": {},
   "source": [
    "HistGradientBoostingRegressor(learning_rate=0.03, max_depth=10, max_iter=200,\n",
    "                              max_leaf_nodes=None)"
   ]
  },
  {
   "cell_type": "code",
   "execution_count": 51,
   "id": "42c7d34b-5971-4c27-bdf7-dac2daefa209",
   "metadata": {},
   "outputs": [],
   "source": [
    "r2 = RandomForestRegressor(max_depth=20, min_samples_split=10, n_estimators=250)\n",
    "r3 = HistGradientBoostingRegressor(learning_rate=0.03, max_depth=10, max_iter=200, max_leaf_nodes=None)\n",
    "er = VotingRegressor([('rf', r2), ('hgb', r3)])"
   ]
  },
  {
   "cell_type": "code",
   "execution_count": 52,
   "id": "63f4b159-8117-4140-a3cd-01070a115013",
   "metadata": {},
   "outputs": [
    {
     "data": {
      "text/plain": [
       "VotingRegressor(estimators=[('rf',\n",
       "                             RandomForestRegressor(max_depth=20,\n",
       "                                                   min_samples_split=10,\n",
       "                                                   n_estimators=250)),\n",
       "                            ('hgb',\n",
       "                             HistGradientBoostingRegressor(learning_rate=0.03,\n",
       "                                                           max_depth=10,\n",
       "                                                           max_iter=200,\n",
       "                                                           max_leaf_nodes=None))])"
      ]
     },
     "execution_count": 52,
     "metadata": {},
     "output_type": "execute_result"
    }
   ],
   "source": [
    "er.fit(PolynomialFeatures().fit_transform(X_train), y_train)"
   ]
  },
  {
   "cell_type": "code",
   "execution_count": 54,
   "id": "f8f99521-4410-4c40-83f6-ff6bac5fb376",
   "metadata": {},
   "outputs": [],
   "source": [
    "nine = er.predict(PolynomialFeatures().fit_transform(X_test))"
   ]
  },
  {
   "cell_type": "code",
   "execution_count": 55,
   "id": "9d6c98c6-aea4-4979-8143-a48350065cfe",
   "metadata": {},
   "outputs": [],
   "source": [
    "send = pd.DataFrame(nine)\n",
    "csv = send.rename(columns={0:'price'})\n",
    "csv.index.name='id'\n",
    "csv.to_csv('test9_Voting_OptiHGB_OptiRF.csv')"
   ]
  },
  {
   "cell_type": "code",
   "execution_count": 57,
   "id": "910a980a-6e54-4407-9bee-dd966ddc70cf",
   "metadata": {},
   "outputs": [
    {
     "data": {
      "text/plain": [
       "0.09091148814559886"
      ]
     },
     "execution_count": 57,
     "metadata": {},
     "output_type": "execute_result"
    }
   ],
   "source": [
    "(-cross_val_score(er, X_train, y_train, scoring='neg_root_mean_squared_error', cv=5)).mean()"
   ]
  },
  {
   "cell_type": "code",
   "execution_count": null,
   "id": "35667b3f-2a24-4060-bee6-45ff0770932a",
   "metadata": {},
   "outputs": [],
   "source": []
  }
 ],
 "metadata": {
  "kernelspec": {
   "display_name": "ironhack",
   "language": "python",
   "name": "ironhack"
  },
  "language_info": {
   "codemirror_mode": {
    "name": "ipython",
    "version": 3
   },
   "file_extension": ".py",
   "mimetype": "text/x-python",
   "name": "python",
   "nbconvert_exporter": "python",
   "pygments_lexer": "ipython3",
   "version": "3.9.6"
  }
 },
 "nbformat": 4,
 "nbformat_minor": 5
}
