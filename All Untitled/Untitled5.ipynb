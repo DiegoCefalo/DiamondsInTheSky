{
 "cells": [
  {
   "cell_type": "code",
   "execution_count": 94,
   "id": "04ec9c62-f821-49ab-bcf8-aba9ec6ffe72",
   "metadata": {},
   "outputs": [],
   "source": [
    "from sklearn.ensemble import GradientBoostingRegressor, RandomForestRegressor, VotingRegressor, IsolationForest\n",
    "from sklearn.model_selection import cross_val_score\n",
    "from sklearn.linear_model import LinearRegression, ARDRegression\n",
    "from xgboost import XGBRegressor\n",
    "import pandas as pd\n",
    "import numpy as np\n",
    "from sklearn.preprocessing import PolynomialFeatures\n",
    "from sklearn.model_selection import GridSearchCV, RandomizedSearchCV\n",
    "from sklearn.tree import DecisionTreeRegressor\n",
    "\n",
    "from hyperopt import fmin, hp, tpe, Trials, space_eval, STATUS_OK\n",
    "from hyperopt.pyll import scope as ho_scope\n",
    "from hyperopt.pyll.stochastic import sample as ho_sample\n",
    "\n",
    "from sklearn.metrics import mean_squared_error as mse"
   ]
  },
  {
   "cell_type": "code",
   "execution_count": 47,
   "id": "1635d9dc-e7fb-49f3-8172-8c7f3426e1a9",
   "metadata": {},
   "outputs": [],
   "source": [
    "train = pd.read_csv('data/train.csv')\n",
    "test = pd.read_csv('data/test.csv')\n",
    "def cleaner(df):\n",
    "    colors = {'D' : 6, 'E' : 5, 'F' : 4, 'G' : 3, 'H' : 2, 'I' : 1, 'J' : 0}\n",
    "    clarity = {'SI2' : 1, 'VVS2' : 5, 'VS2' : 3, 'VS1' : 4, 'SI1' : 2, 'VVS1' : 6, 'IF' : 7, 'I1' : 0}\n",
    "    cut = {'Premium' : 4, 'Ideal' : 3, 'Very Good' : 2, 'Fair' : 0, 'Good' : 1}\n",
    "    df['color'] = np.vectorize(colors.get)(df.color)\n",
    "    df.clarity = np.vectorize(clarity.get)(df.clarity)\n",
    "    df.cut = np.vectorize(cut.get)(df.cut)\n",
    "    return df\n",
    "train = cleaner(train)\n",
    "test= cleaner(test)\n",
    "X = train.drop(columns='price')\n",
    "y = train.price\n",
    "X_t= test"
   ]
  },
  {
   "cell_type": "code",
   "execution_count": 43,
   "id": "ff3b0309-4ca3-43d1-8dae-e0ac9e79b87e",
   "metadata": {},
   "outputs": [
    {
     "name": "stdout",
     "output_type": "stream",
     "text": [
      "[15:53:01] WARNING: ../src/learner.cc:573: \n",
      "Parameters: { \"x_gamma\" } might not be used.\n",
      "\n",
      "  This may not be accurate due to some parameters are only used in language bindings but\n",
      "  passed down to XGBoost core.  Or some parameters are not used but slip through this\n",
      "  verification. Please open an issue if you find above cases.\n",
      "\n",
      "\n"
     ]
    }
   ],
   "source": [
    "a = XGBRegressor(eta=0.1,max_depth=8,).fit(PolynomialFeatures().fit_transform(X_train), y_train)"
   ]
  },
  {
   "cell_type": "code",
   "execution_count": 44,
   "id": "2db68043-3121-44fd-b09e-311ed0b19f14",
   "metadata": {},
   "outputs": [
    {
     "data": {
      "text/plain": [
       "0.09145542664194659"
      ]
     },
     "execution_count": 44,
     "metadata": {},
     "output_type": "execute_result"
    }
   ],
   "source": [
    "(-cross_val_score(a, PolynomialFeatures().fit_transform(X_train), y_train, scoring='neg_root_mean_squared_error', cv=5)).mean()"
   ]
  },
  {
   "cell_type": "code",
   "execution_count": null,
   "id": "9b868d22-4a4a-4d0a-ad45-f811fab6f32a",
   "metadata": {},
   "outputs": [],
   "source": []
  },
  {
   "cell_type": "code",
   "execution_count": 45,
   "id": "a941e6a3-a900-4c3c-9798-05d38e2e5c78",
   "metadata": {},
   "outputs": [],
   "source": [
    "from sklearn.model_selection import train_test_split"
   ]
  },
  {
   "cell_type": "code",
   "execution_count": 48,
   "id": "2b131973-0c62-47fb-af52-653a24e71cd9",
   "metadata": {},
   "outputs": [],
   "source": [
    "X_train, X_test, y_train, y_test = train_test_split(X, y, test_size=0.2, random_state=666)"
   ]
  },
  {
   "cell_type": "code",
   "execution_count": null,
   "id": "cf7b9a9b-4587-4795-b1f8-1c12b927c517",
   "metadata": {},
   "outputs": [],
   "source": []
  },
  {
   "cell_type": "code",
   "execution_count": 37,
   "id": "5484c919-c983-410c-8ba1-d6349a737d3b",
   "metadata": {},
   "outputs": [],
   "source": [
    "xgbr=XGBRegressor()"
   ]
  },
  {
   "cell_type": "code",
   "execution_count": 110,
   "id": "0224dadc-9485-4e48-a696-117542bfd960",
   "metadata": {},
   "outputs": [],
   "source": [
    "space={\n",
    "    \n",
    "    'n_estimators': hp.quniform('n_estimators', 10, 1000, 25), # uniforme discreta de 10 a 1000 en saltos de 25\n",
    "    \n",
    "    'learning_rate': hp.uniform('learning_rate', 0.0001, 1.0), # uniforme continua entre 0.0001 y 1\n",
    "    \n",
    "    'max_depth': ho_scope.int(hp.quniform('my_param', 5, 10, q=1)),\n",
    "    \n",
    "    'gamma': hp.uniform('x_gamma', 0.1, 0.5)\n",
    "}"
   ]
  },
  {
   "cell_type": "code",
   "execution_count": 111,
   "id": "b7b639a4-468d-4ca4-b7b5-8d14456a2a1c",
   "metadata": {},
   "outputs": [],
   "source": [
    "def objetivo(space):\n",
    "    \n",
    "    modelo=XGBRegressor(n_estimators=int(space['n_estimators']),\n",
    "                            learning_rate=space['learning_rate'],\n",
    "                            gamma=space['gamma'],\n",
    "                            max_depth = space['max_depth'],\n",
    "                            objective='reg:squarederror'\n",
    "                           )\n",
    "    \n",
    "    eval_set=[(PolynomialFeatures().fit_transform(X_train), y_train), (PolynomialFeatures().fit_transform(X_test), y_test)]\n",
    "    \n",
    "    modelo.fit(PolynomialFeatures().fit_transform(X_train), y_train, eval_set=eval_set, eval_metric='rmse', verbose=False)\n",
    "    \n",
    "    y_pred=modelo.predict(PolynomialFeatures().fit_transform(X_test))\n",
    "    \n",
    "    rmse=mse(y_test, y_pred)**0.5\n",
    "    \n",
    "    return {'loss': rmse, 'status': STATUS_OK}"
   ]
  },
  {
   "cell_type": "code",
   "execution_count": 112,
   "id": "ac2719ba-cc62-4bd1-b983-538a9c8ec582",
   "metadata": {},
   "outputs": [
    {
     "name": "stdout",
     "output_type": "stream",
     "text": [
      "100%|██████████████████████████████████████████| 10/10 [05:04<00:00, 30.45s/trial, best loss: 0.09353645881950222]\n"
     ]
    },
    {
     "data": {
      "text/plain": [
       "{'learning_rate': 0.03502550864700057,\n",
       " 'my_param': 9.0,\n",
       " 'n_estimators': 675.0,\n",
       " 'x_gamma': 0.43533138808139427}"
      ]
     },
     "execution_count": 112,
     "metadata": {},
     "output_type": "execute_result"
    }
   ],
   "source": [
    "mejor=fmin(fn=objetivo, space=space, algo=tpe.suggest, max_evals=10, trials=Trials())\n",
    "\n",
    "mejor"
   ]
  },
  {
   "cell_type": "markdown",
   "id": "13405891-5511-411d-8553-5f99c303d95c",
   "metadata": {},
   "source": [
    "100%|██████████████████████████████████████████| 10/10 [05:18<00:00, 31.83s/trial, best loss: 0.09123348426331684]\n",
    "{'learning_rate': 0.04029264786337595,\n",
    " 'n_estimators': 500.0,\n",
    " 'x_gamma': 0.14396489384644895}"
   ]
  },
  {
   "cell_type": "code",
   "execution_count": null,
   "id": "58df5cc9-aa17-4ebc-ac68-12b0b22ce21f",
   "metadata": {},
   "outputs": [],
   "source": [
    "(-cross_val_score(a, PolynomialFeatures().fit_transform(X_train), y_train, scoring='neg_root_mean_squared_error', cv=5)).mean()"
   ]
  }
 ],
 "metadata": {
  "kernelspec": {
   "display_name": "ironhack",
   "language": "python",
   "name": "ironhack"
  },
  "language_info": {
   "codemirror_mode": {
    "name": "ipython",
    "version": 3
   },
   "file_extension": ".py",
   "mimetype": "text/x-python",
   "name": "python",
   "nbconvert_exporter": "python",
   "pygments_lexer": "ipython3",
   "version": "3.9.6"
  }
 },
 "nbformat": 4,
 "nbformat_minor": 5
}
